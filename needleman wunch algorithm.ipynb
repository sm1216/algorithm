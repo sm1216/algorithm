{
 "cells": [
  {
   "cell_type": "code",
   "execution_count": 7,
   "metadata": {},
   "outputs": [
    {
     "name": "stdout",
     "output_type": "stream",
     "text": [
      "seq1= ATAATTCA\n",
      "seq2= ATGGCTA\n",
      "score matrix\n",
      "[[ 0 -1 -2 -3 -4 -5 -6 -7]\n",
      " [-1  1  0 -1 -2 -3 -4 -5]\n",
      " [-2  0  2  1  0 -1 -2 -3]\n",
      " [-3 -1  1  1  0 -1 -2 -1]\n",
      " [-4 -2  0  0  0 -1 -2 -1]\n",
      " [-5 -3 -1 -1 -1 -1  0 -1]\n",
      " [-6 -4 -2 -2 -2 -2  0 -1]\n",
      " [-7 -5 -3 -3 -3 -1 -1 -1]\n",
      " [-8 -6 -4 -4 -4 -2 -2  0]]\n"
     ]
    }
   ],
   "source": [
    "#algorithm needleman wunsch\n",
    "#import libraries\n",
    "import numpy as np\n",
    "#enter sequence use input to input data\n",
    "seq1='ATAATTCA'\n",
    "seq2='ATGGCTA'\n",
    "#length of sequence\n",
    "m = len(seq1)\n",
    "n = len(seq2) \n",
    "#scoring matrix\n",
    "score_matrix = np.zeros((m+1, n+1), dtype=int)\n",
    "#scores\n",
    "match=1\n",
    "gap= mismatch= -1\n",
    "score_matrix[0][0] = 0\n",
    "#scoring condition\n",
    "for i in range(0,m+1):\n",
    "\tscore_matrix[i][0] = i * gap \n",
    "for j in range(0,n+1):\n",
    "\tscore_matrix[0][j] = j * gap \n",
    "#making dictionary and conditioning for gap match and mismatch\n",
    "def Align(x,y):\n",
    "\tif x==y:\n",
    "\t\treturn match\n",
    "\telif x!= y:\n",
    "\t\treturn mismatch\t\n",
    "\telif x == '-' or y == '-':\n",
    "\t\treturn gap\t\n",
    "#dictionary algorithm for filling matrix\n",
    "def NeedlemanWunchScoring(seq1, seq2, n, m):\n",
    "\t#fill the other entries of the matrix\n",
    "\tfor i in range(1, m+1):\n",
    "\t\tfor j in range(1, n+1):\n",
    "\t\t\tmatch  = score_matrix[i-1][j-1] + Align(seq1[i-1], seq2[j-1])\n",
    "\t\t\tdelete = score_matrix[i-1][j]   +  gap\n",
    "\t\t\tinsert = score_matrix[i][j-1]   +  gap\n",
    "\t\t\tscore_matrix[i][j] = max(match, delete, insert)\n",
    "\t\t\t#print seq1[i-1], seq2[j-1], score_mat[i-1][j-1]\n",
    "\treturn score_matrix\t\t\n",
    "\n",
    "Final_matrix=NeedlemanWunchScoring(seq1, seq2, n, m)\n",
    "#print results\n",
    "print (\"seq1=\", seq1 +\"\\n\" + \"seq2=\", seq2)\n",
    "\n",
    "print (\"score matrix\")\n",
    "\n",
    "print (Final_matrix)"
   ]
  },
  {
   "cell_type": "code",
   "execution_count": null,
   "metadata": {},
   "outputs": [],
   "source": []
  },
  {
   "cell_type": "code",
   "execution_count": null,
   "metadata": {},
   "outputs": [],
   "source": []
  }
 ],
 "metadata": {
  "kernelspec": {
   "display_name": "Python 3",
   "language": "python",
   "name": "python3"
  },
  "language_info": {
   "codemirror_mode": {
    "name": "ipython",
    "version": 3
   },
   "file_extension": ".py",
   "mimetype": "text/x-python",
   "name": "python",
   "nbconvert_exporter": "python",
   "pygments_lexer": "ipython3",
   "version": "3.7.3"
  }
 },
 "nbformat": 4,
 "nbformat_minor": 2
}
